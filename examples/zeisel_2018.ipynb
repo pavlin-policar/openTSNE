{
 "cells": [
  {
   "cell_type": "code",
   "execution_count": 1,
   "metadata": {},
   "outputs": [],
   "source": [
    "import warnings\n",
    "warnings.filterwarnings('ignore')\n",
    "\n",
    "import loompy\n",
    "import pandas as pd\n",
    "import numpy as np\n",
    "import scipy.sparse as sp\n",
    "import pickle\n",
    "import gzip"
   ]
  },
  {
   "cell_type": "code",
   "execution_count": 2,
   "metadata": {},
   "outputs": [],
   "source": [
    "data = loompy.connect('../../data/L5_All.loom')"
   ]
  },
  {
   "cell_type": "code",
   "execution_count": 3,
   "metadata": {},
   "outputs": [],
   "source": [
    "counts = data.sparse().tocsr(copy=False)"
   ]
  },
  {
   "cell_type": "code",
   "execution_count": 4,
   "metadata": {},
   "outputs": [
    {
     "data": {
      "text/plain": [
       "<27998x160796 sparse matrix of type '<class 'numpy.float32'>'\n",
       "\twith 253062766 stored elements in Compressed Sparse Row format>"
      ]
     },
     "execution_count": 4,
     "metadata": {},
     "output_type": "execute_result"
    }
   ],
   "source": [
    "counts"
   ]
  },
  {
   "cell_type": "code",
   "execution_count": 5,
   "metadata": {},
   "outputs": [],
   "source": [
    "genes = pd.Index(data.ra.Gene).str.upper()"
   ]
  },
  {
   "cell_type": "code",
   "execution_count": 6,
   "metadata": {},
   "outputs": [],
   "source": [
    "duplicated_gene_mask = genes.duplicated()\n",
    "genes = genes[~duplicated_gene_mask].values\n",
    "counts = counts[~duplicated_gene_mask]"
   ]
  },
  {
   "cell_type": "code",
   "execution_count": 7,
   "metadata": {},
   "outputs": [],
   "source": [
    "def calculate_cpm(x, axis=1):\n",
    "    normalization = np.sum(x, axis=axis)\n",
    "    # On sparse matrices, the sum will be 2d. We want a 1d array\n",
    "    normalization = np.squeeze(np.asarray(normalization))\n",
    "    # Straight up division is not an option since this will form a full dense\n",
    "    # matrix if `x` is sparse. Divison can be expressed as the dot product with\n",
    "    # a reciprocal diagonal matrix\n",
    "    normalization = sp.diags(1 / normalization, offsets=0)\n",
    "    if axis == 0:\n",
    "        cpm_counts = np.dot(x, normalization)\n",
    "    elif axis == 1:\n",
    "        cpm_counts = np.dot(normalization, x)\n",
    "    return cpm_counts * 1e6\n",
    "\n",
    "\n",
    "def log_normalize(data):\n",
    "    if sp.issparse(data):\n",
    "        data = data.copy()\n",
    "        data.data = np.log2(data.data + 1)\n",
    "        return data\n",
    "\n",
    "    return np.log2(data.astype(np.float64) + 1)"
   ]
  },
  {
   "cell_type": "code",
   "execution_count": 8,
   "metadata": {},
   "outputs": [],
   "source": [
    "cpm_counts = calculate_cpm(counts, axis=0)\n",
    "log_counts = log_normalize(cpm_counts)"
   ]
  },
  {
   "cell_type": "code",
   "execution_count": 9,
   "metadata": {},
   "outputs": [],
   "source": [
    "loompy.create(\n",
    "    'data/zeisel_2018.loom',\n",
    "    {'': counts, 'log_counts': log_counts},\n",
    "    row_attrs={'Gene': genes},\n",
    "    col_attrs={'CellID': data.ca.CellID,\n",
    "               'CellType1': data.ca.TaxonomyRank3,\n",
    "               'CellType2': data.ca.TaxonomyRank4}\n",
    ")"
   ]
  },
  {
   "cell_type": "code",
   "execution_count": 10,
   "metadata": {},
   "outputs": [],
   "source": [
    "data_dict = {'counts': counts,\n",
    "             'log_counts': log_counts,\n",
    "             'Gene': genes,\n",
    "             'CellID': data.ca.CellID,\n",
    "             'CellType1': data.ca.TaxonomyRank3,\n",
    "             'CellType2': data.ca.TaxonomyRank4}"
   ]
  },
  {
   "cell_type": "code",
   "execution_count": 11,
   "metadata": {},
   "outputs": [],
   "source": [
    "with gzip.open('data/zeisel_2018.pkl.gz', 'wb') as f:\n",
    "    pickle.dump(data_dict, f)"
   ]
  },
  {
   "cell_type": "code",
   "execution_count": null,
   "metadata": {},
   "outputs": [],
   "source": []
  }
 ],
 "metadata": {
  "kernelspec": {
   "display_name": "Python 3",
   "language": "python",
   "name": "python3"
  },
  "language_info": {
   "codemirror_mode": {
    "name": "ipython",
    "version": 3
   },
   "file_extension": ".py",
   "mimetype": "text/x-python",
   "name": "python",
   "nbconvert_exporter": "python",
   "pygments_lexer": "ipython3",
   "version": "3.6.5"
  }
 },
 "nbformat": 4,
 "nbformat_minor": 2
}
