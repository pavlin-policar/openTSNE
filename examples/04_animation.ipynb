{
 "cells": [
  {
   "cell_type": "markdown",
   "metadata": {},
   "source": [
    "# t-SNE Animations\n",
    "\n",
    "*fastTSNE* includes a callback system, with can be triggered every *n* iterations and can also be used to control optimization and when to stop.\n",
    "\n",
    "In this notebook, we'll look at an example and use callbacks to generate an animation of the optimization. In practice, this serves no real purpose other than being fun to look at."
   ]
  },
  {
   "cell_type": "code",
   "execution_count": 1,
   "metadata": {},
   "outputs": [],
   "source": [
    "from fastTSNE import TSNE\n",
    "from fastTSNE.callbacks import ErrorLogger\n",
    "\n",
    "from examples import utils\n",
    "\n",
    "import numpy as np\n",
    "import matplotlib\n",
    "import matplotlib.pyplot as plt\n",
    "import matplotlib.animation as animation\n",
    "from IPython.display import Image, display"
   ]
  },
  {
   "cell_type": "markdown",
   "metadata": {},
   "source": [
    "For this example, we'll be using the MNIST handwritten digits data set, which has probably been the most famous tSNE success."
   ]
  },
  {
   "cell_type": "code",
   "execution_count": 2,
   "metadata": {},
   "outputs": [],
   "source": [
    "x, y = utils.get_mnist()"
   ]
  },
  {
   "cell_type": "code",
   "execution_count": 3,
   "metadata": {},
   "outputs": [
    {
     "name": "stdout",
     "output_type": "stream",
     "text": [
      "MNIST contains 70000 images with 784 pixels each.\n"
     ]
    }
   ],
   "source": [
    "print('MNIST contains %d images with %d pixels each.' % x.shape)"
   ]
  },
  {
   "cell_type": "markdown",
   "metadata": {},
   "source": [
    "We pass a callback that will take the current embedding, make a copy (this is important because the embedding is changed inplace during optimization) and add it to a list. We can also specify how often the callbacks should be called. In this instance, we'll call it at every iteration."
   ]
  },
  {
   "cell_type": "code",
   "execution_count": 4,
   "metadata": {},
   "outputs": [],
   "source": [
    "embeddings = []\n",
    "\n",
    "tsne = TSNE(\n",
    "    # Let's use the fast approximation methods\n",
    "    neighbors='approx', negative_gradient_method='fft', initialization='random',\n",
    "    # The embedding will be appended to the list we defined above, make sure we copy the\n",
    "    # embedding, otherwise the same object reference will be stored for every iteration\n",
    "    callbacks=lambda it, err, emb: embeddings.append(np.array(emb)),\n",
    "    # This should be done on every iteration\n",
    "    callbacks_every_iters=1,\n",
    "    # -2 will use all but one core so I can look at cute cat pictures while this computes\n",
    "    n_jobs=-2\n",
    ")"
   ]
  },
  {
   "cell_type": "code",
   "execution_count": 5,
   "metadata": {},
   "outputs": [
    {
     "name": "stdout",
     "output_type": "stream",
     "text": [
      "CPU times: user 13min 17s, sys: 2.31 s, total: 13min 20s\n",
      "Wall time: 2min 47s\n"
     ]
    },
    {
     "data": {
      "text/plain": [
       "TSNEEmbedding([[-22.13216169,  -2.206027  ],\n",
       "               [ -2.47832169,  28.91961601],\n",
       "               [-22.39443692, -26.16850575],\n",
       "               ...,\n",
       "               [ -8.16410769, -13.20077047],\n",
       "               [-25.1144806 , -15.23230912],\n",
       "               [-37.41359755,   6.07385153]])"
      ]
     },
     "execution_count": 5,
     "metadata": {},
     "output_type": "execute_result"
    }
   ],
   "source": [
    "%time tsne.fit(x)"
   ]
  },
  {
   "cell_type": "markdown",
   "metadata": {},
   "source": [
    "Now that we have all the iterations in our list, we need to create the animation. We do this here using matplotlib, which is relatively straightforward. Generating the animation can take a long time, so we will save it as a gif so we can come back to it whenever we want, without having to wait again."
   ]
  },
  {
   "cell_type": "code",
   "execution_count": 6,
   "metadata": {},
   "outputs": [
    {
     "name": "stdout",
     "output_type": "stream",
     "text": [
      "CPU times: user 11min 54s, sys: 2min 43s, total: 14min 38s\n",
      "Wall time: 13min 5s\n"
     ]
    }
   ],
   "source": [
    "%%time\n",
    "fig = plt.figure(figsize=(7, 7))\n",
    "ax = fig.add_axes([0, 0, 1, 1])\n",
    "ax.set_xticks([]), ax.set_yticks([])\n",
    "\n",
    "pathcol = ax.scatter(embeddings[0][:, 0], embeddings[0][:, 1], c=y, s=1, cmap='tab10')\n",
    "\n",
    "def update(embedding, ax, pathcol):\n",
    "    # Update point positions\n",
    "    pathcol.set_offsets(embedding)\n",
    "    \n",
    "    # Adjust x/y limits so all the points are visible\n",
    "    ax.set_xlim(np.min(embedding[:, 0]), np.max(embedding[:, 0]))\n",
    "    ax.set_ylim(np.min(embedding[:, 1]), np.max(embedding[:, 1]))\n",
    "    \n",
    "    return [pathcol]\n",
    "\n",
    "anim = animation.FuncAnimation(\n",
    "    fig, update, fargs=(ax, pathcol), interval=20,\n",
    "    frames=embeddings, blit=True,\n",
    ")\n",
    "\n",
    "anim.save('mnist.gif', dpi=60, writer='imagemagick')\n",
    "plt.close()"
   ]
  },
  {
   "cell_type": "code",
   "execution_count": null,
   "metadata": {},
   "outputs": [],
   "source": []
  }
 ],
 "metadata": {
  "kernelspec": {
   "display_name": "Python 3",
   "language": "python",
   "name": "python3"
  },
  "language_info": {
   "codemirror_mode": {
    "name": "ipython",
    "version": 3
   },
   "file_extension": ".py",
   "mimetype": "text/x-python",
   "name": "python",
   "nbconvert_exporter": "python",
   "pygments_lexer": "ipython3",
   "version": "3.6.5"
  }
 },
 "nbformat": 4,
 "nbformat_minor": 2
}
